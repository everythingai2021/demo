{
  "cells": [
    {
      "cell_type": "markdown",
      "id": "9b5c0bbf",
      "metadata": {
        "id": "9b5c0bbf"
      },
      "source": [
        "#Code Quest 6: The Treasure Temple\n",
        "\n",
        "Deep in the jungle lies a forgotten temple filled with treasure—and traps. Solve Python puzzles to dodge danger and unlock the ancient vault!\n"
      ]
    },
    {
      "cell_type": "markdown",
      "id": "9da74140",
      "metadata": {
        "id": "9da74140"
      },
      "source": [
        "##Level 1: Gold Bar Counter\n",
        "\n",
        "Count how many items in the list are labeled 'gold'."
      ]
    },
    {
      "cell_type": "code",
      "execution_count": null,
      "id": "923934cf",
      "metadata": {
        "id": "923934cf"
      },
      "outputs": [],
      "source": [
        "def count_gold(items):\n",
        "    return items.count(\"gold\")\n",
        "\n",
        "print(count_gold([\"gold\", \"silver\", \"gold\"]))"
      ]
    },
    {
      "cell_type": "markdown",
      "id": "0fbc7bd5",
      "metadata": {
        "id": "0fbc7bd5"
      },
      "source": [
        "##Level 2: Statue ID Checker\n",
        "\n",
        "Return True if the statue ID is a 6-digit number starting with 2 or 3."
      ]
    },
    {
      "cell_type": "code",
      "execution_count": null,
      "id": "d788a97f",
      "metadata": {
        "id": "d788a97f"
      },
      "outputs": [],
      "source": [
        "def valid_statue_id(code):\n",
        "    return len(str(code)) == 6 and str(code).startswith((\"2\", \"3\"))\n",
        "\n",
        "print(valid_statue_id(234567))"
      ]
    },
    {
      "cell_type": "markdown",
      "id": "4cb3f24c",
      "metadata": {
        "id": "4cb3f24c"
      },
      "source": [
        "##Level 3: Trap Step Finder\n",
        "\n",
        "Return a list of numbers between 1–20 divisible by 4."
      ]
    },
    {
      "cell_type": "code",
      "execution_count": null,
      "id": "e4a1e3a6",
      "metadata": {
        "id": "e4a1e3a6"
      },
      "outputs": [],
      "source": [
        "def trap_steps():\n",
        "    return [n for n in range(1, 21) if n % 4 == 0]\n",
        "\n",
        "print(trap_steps())  # [4, 8, 12, 16, 20]"
      ]
    },
    {
      "cell_type": "markdown",
      "id": "6c1c05c3",
      "metadata": {
        "id": "6c1c05c3"
      },
      "source": [
        "##Final Level: Vault Key Generator\n",
        "\n",
        "Reverse a sentence and capitalize every word."
      ]
    },
    {
      "cell_type": "code",
      "execution_count": null,
      "id": "d77ecb4a",
      "metadata": {
        "id": "d77ecb4a"
      },
      "outputs": [],
      "source": [
        "def generate_key(phrase):\n",
        "    words = phrase.split()[::-1]\n",
        "    return \" \".join(w.capitalize() for w in words)\n",
        "\n",
        "print(generate_key(\"seek and you shall find\"))"
      ]
    }
  ],
  "metadata": {
    "colab": {
      "provenance": []
    }
  },
  "nbformat": 4,
  "nbformat_minor": 5
}
