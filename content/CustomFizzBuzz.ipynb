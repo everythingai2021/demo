{
  "nbformat": 4,
  "nbformat_minor": 0,
  "metadata": {
    "colab": {
      "provenance": []
    },
    "kernelspec": {
      "name": "python3",
      "display_name": "Python 3"
    },
    "language_info": {
      "name": "python"
    }
  },
  "cells": [
    {
      "cell_type": "markdown",
      "source": [
        "# ***Custom Fizz Buzz***\n",
        "1. If/Else\n",
        "2. For loops\n",
        "3. Arrays\n"
      ],
      "metadata": {
        "id": "U8FpJMieBVGF"
      }
    },
    {
      "cell_type": "code",
      "source": [
        "def custom_fizzbuzz(limit, rules):\n",
        "    for i in range(1, limit + 1):\n",
        "        output = \"\"\n",
        "        for num, word in rules.items():\n",
        "            if i % num == 0:\n",
        "                output += word\n",
        "        print(output or i)"
      ],
      "metadata": {
        "id": "Hn_8nvbOScre"
      },
      "execution_count": null,
      "outputs": []
    },
    {
      "cell_type": "code",
      "source": [
        "num1 = int(input(\"Enter first number: \"))\n",
        "word1 = input(\"Enter word for that number: \")\n",
        "\n",
        "num2 = int(input(\"Enter second number: \"))\n",
        "word2 = input(\"Enter word for that number: \")\n",
        "\n",
        "num3 = int(input(\"Enter third number: \"))\n",
        "word3 = input(\"Enter word for that number: \")"
      ],
      "metadata": {
        "colab": {
          "base_uri": "https://localhost:8080/"
        },
        "id": "oQKANHHLbKkY",
        "outputId": "98c7d21e-ef56-47fe-e340-e78149292775"
      },
      "execution_count": null,
      "outputs": [
        {
          "name": "stdout",
          "output_type": "stream",
          "text": [
            "Enter first number: 2\n",
            "Enter word for that number: two\n",
            "Enter second number: 3\n",
            "Enter word for that number: three\n",
            "Enter third number: 4\n",
            "Enter word for that number: four\n"
          ]
        }
      ]
    },
    {
      "cell_type": "code",
      "source": [
        "rules = {num1: word1, num2: word2, num3: word3}\n",
        "custom_fizzbuzz(100, rules)"
      ],
      "metadata": {
        "colab": {
          "base_uri": "https://localhost:8080/"
        },
        "id": "OBRzb6gBbOhv",
        "outputId": "764d4155-3517-4b25-f04a-1d01befdb0a8"
      },
      "execution_count": null,
      "outputs": [
        {
          "output_type": "stream",
          "name": "stdout",
          "text": [
            "1\n",
            "two\n",
            "three\n",
            "twofour\n",
            "5\n",
            "twothree\n",
            "7\n",
            "twofour\n",
            "three\n",
            "two\n",
            "11\n",
            "twothreefour\n",
            "13\n",
            "two\n",
            "three\n",
            "twofour\n",
            "17\n",
            "twothree\n",
            "19\n",
            "twofour\n",
            "three\n",
            "two\n",
            "23\n",
            "twothreefour\n",
            "25\n",
            "two\n",
            "three\n",
            "twofour\n",
            "29\n",
            "twothree\n",
            "31\n",
            "twofour\n",
            "three\n",
            "two\n",
            "35\n",
            "twothreefour\n",
            "37\n",
            "two\n",
            "three\n",
            "twofour\n",
            "41\n",
            "twothree\n",
            "43\n",
            "twofour\n",
            "three\n",
            "two\n",
            "47\n",
            "twothreefour\n",
            "49\n",
            "two\n",
            "three\n",
            "twofour\n",
            "53\n",
            "twothree\n",
            "55\n",
            "twofour\n",
            "three\n",
            "two\n",
            "59\n",
            "twothreefour\n",
            "61\n",
            "two\n",
            "three\n",
            "twofour\n",
            "65\n",
            "twothree\n",
            "67\n",
            "twofour\n",
            "three\n",
            "two\n",
            "71\n",
            "twothreefour\n",
            "73\n",
            "two\n",
            "three\n",
            "twofour\n",
            "77\n",
            "twothree\n",
            "79\n",
            "twofour\n",
            "three\n",
            "two\n",
            "83\n",
            "twothreefour\n",
            "85\n",
            "two\n",
            "three\n",
            "twofour\n",
            "89\n",
            "twothree\n",
            "91\n",
            "twofour\n",
            "three\n",
            "two\n",
            "95\n",
            "twothreefour\n",
            "97\n",
            "two\n",
            "three\n",
            "twofour\n"
          ]
        }
      ]
    }
  ]
}