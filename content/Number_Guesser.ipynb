{
  "nbformat": 4,
  "nbformat_minor": 0,
  "metadata": {
    "colab": {
      "provenance": []
    },
    "kernelspec": {
      "name": "python3",
      "display_name": "Python 3"
    },
    "language_info": {
      "name": "python"
    }
  },
  "cells": [
    {
      "cell_type": "markdown",
      "source": [
        "# ***Number Guesser***\n",
        "1. If/Else\n",
        "2. While Loop\n",
        "3. Functions\n",
        "4. Random libraries"
      ],
      "metadata": {
        "id": "U8FpJMieBVGF"
      }
    },
    {
      "cell_type": "markdown",
      "source": [
        "A library in Python is like a toolbox full of pre-made code that helps you do cool things without building everything from scratch!"
      ],
      "metadata": {
        "id": "TSRXgKaixWL-"
      }
    },
    {
      "cell_type": "code",
      "source": [
        "import random\n",
        "\n",
        "print(\"🎲 Welcome to the Number Guesser Game!\")"
      ],
      "metadata": {
        "id": "Sjn1QTIhBqcb",
        "colab": {
          "base_uri": "https://localhost:8080/"
        },
        "outputId": "698f08e8-e0e0-47e1-b682-79640ac7fc28"
      },
      "execution_count": null,
      "outputs": [
        {
          "output_type": "stream",
          "name": "stdout",
          "text": [
            "🎲 Welcome to the Number Guesser Game!\n"
          ]
        }
      ]
    },
    {
      "cell_type": "code",
      "source": [
        "print(\"Choose a difficulty:\")\n",
        "print(\"1. Easy (1–10)\")\n",
        "print(\"2. Medium (1–20)\")\n",
        "print(\"3. Hard (1–50)\")\n",
        "\n",
        "difficulty = input(\"Enter 1, 2, or 3: \")\n",
        "\n",
        "if difficulty == \"1\":\n",
        "    max_number = 10\n",
        "    max_attempts = 5\n",
        "elif difficulty == \"2\":\n",
        "    max_number = 20\n",
        "    max_attempts = 6\n",
        "elif difficulty == \"3\":\n",
        "    max_number = 50\n",
        "    max_attempts = 7\n",
        "else:\n",
        "    print(\"Invalid choice! Defaulting to Medium.\")\n",
        "    max_number = 20\n",
        "    max_attempts = 6"
      ],
      "metadata": {
        "colab": {
          "base_uri": "https://localhost:8080/"
        },
        "id": "LRncvKeICSV5",
        "outputId": "a502d7bc-57cc-4aa1-872e-41e270ae8274"
      },
      "execution_count": null,
      "outputs": [
        {
          "name": "stdout",
          "output_type": "stream",
          "text": [
            "Choose a difficulty:\n",
            "1. Easy (1–10)\n",
            "2. Medium (1–20)\n",
            "3. Hard (1–50)\n",
            "Enter 1, 2, or 3: 1\n"
          ]
        }
      ]
    },
    {
      "cell_type": "code",
      "source": [
        "secret_number = random.randint(1, max_number)\n",
        "print(f\"\\nI'm thinking of a number between 1 and {max_number}... 🤔\")\n",
        "print(f\"You have {max_attempts} tries to guess it!\")"
      ],
      "metadata": {
        "colab": {
          "base_uri": "https://localhost:8080/"
        },
        "id": "lDqHbs48CVim",
        "outputId": "e720e789-4f6d-46f5-fc3a-ddeabc26c21d"
      },
      "execution_count": null,
      "outputs": [
        {
          "output_type": "stream",
          "name": "stdout",
          "text": [
            "\n",
            "I'm thinking of a number between 1 and 10... 🤔\n",
            "You have 5 tries to guess it!\n"
          ]
        }
      ]
    },
    {
      "cell_type": "code",
      "source": [
        "attempts = 0\n",
        "guessed = False\n",
        "\n",
        "while attempts < max_attempts and not guessed:\n",
        "    guess = int(input(\"Your guess: \"))\n",
        "    attempts += 1\n",
        "\n",
        "    if guess < secret_number:\n",
        "        print(\"Too low! 📉 Try again.\")\n",
        "    elif guess > secret_number:\n",
        "        print(\"Too high! 📈 Try again.\")\n",
        "    else:\n",
        "        guessed = True\n",
        "        print(f\"You got it in {attempts} tries!\")\n",
        "\n",
        "if not guessed:\n",
        "    print(\"You're out of tries. The number was\", secret_number)"
      ],
      "metadata": {
        "id": "W3XIscSTHTtl",
        "colab": {
          "base_uri": "https://localhost:8080/"
        },
        "outputId": "9a371375-3833-4520-f1ed-5cdc0ad46a9b"
      },
      "execution_count": null,
      "outputs": [
        {
          "output_type": "stream",
          "name": "stdout",
          "text": [
            "Your guess: 5\n",
            "Too low! 📉 Try again.\n",
            "Your guess: 8\n",
            "Too low! 📉 Try again.\n",
            "Your guess: 15\n",
            "Too high! 📈 Try again.\n",
            "Your guess: 10\n",
            "🎉 You got it in 4 tries!\n"
          ]
        }
      ]
    }
  ]
}