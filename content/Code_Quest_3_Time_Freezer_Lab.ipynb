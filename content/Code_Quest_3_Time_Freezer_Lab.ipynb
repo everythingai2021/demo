{
  "cells": [
    {
      "cell_type": "markdown",
      "id": "2b57debb",
      "metadata": {
        "id": "2b57debb"
      },
      "source": [
        "#Code Quest 3: The Time-Freezer Lab\n",
        "\n",
        "You've stumbled into a secret time lab where scientists were building a Time Freezer! It’s gone haywire, and time is freezing all around you.\n",
        "\n",
        "Complete these Python challenges to defrost the lab and return to the present. Solve each function as a team to unlock the way out. Each level is a different frozen room you must escape!\n",
        "\n",
        "Let’s thaw time together!\n"
      ]
    },
    {
      "cell_type": "markdown",
      "id": "348c0157",
      "metadata": {
        "id": "348c0157"
      },
      "source": [
        "## Level 1: Frozen Greeting Machine\n",
        "\n",
        "The lab’s frozen computer still prints greetings, but they must include the year.\n",
        "\n",
        "**Example:**\n",
        "\n",
        "```python\n",
        "frozen_greeting(\"Lena\", 2025) ➞ \"Hello Lena, from the year 2025!\"\n",
        "```\n"
      ]
    },
    {
      "cell_type": "code",
      "execution_count": null,
      "id": "3f8ab620",
      "metadata": {
        "colab": {
          "base_uri": "https://localhost:8080/"
        },
        "id": "3f8ab620",
        "outputId": "d3f9f047-584f-44bf-e5e7-cb7e2fc45e14"
      },
      "outputs": [
        {
          "output_type": "stream",
          "name": "stdout",
          "text": [
            "Hello Lena, from the year 2025!\n"
          ]
        }
      ],
      "source": [
        "def frozen_greeting(name, year):\n",
        "    return f\"Hello {name}, from the year {year}!\"\n",
        "\n",
        "print(frozen_greeting(\"Lena\", 2025))\n"
      ]
    },
    {
      "cell_type": "markdown",
      "id": "80864765",
      "metadata": {
        "id": "80864765"
      },
      "source": [
        "## Level 2: Melting Clock Puzzle\n",
        "\n",
        "Return \"morning\", \"afternoon\", or \"evening\" based on the hour (24h format).\n",
        "\n",
        "- Morning: 5–11\n",
        "- Afternoon: 12–17\n",
        "- Evening: all others\n",
        "\n",
        "**Example:**\n",
        "\n",
        "```python\n",
        "time_of_day(14) ➞ \"afternoon\"\n",
        "```\n"
      ]
    },
    {
      "cell_type": "code",
      "execution_count": null,
      "id": "dd8f4d76",
      "metadata": {
        "id": "dd8f4d76",
        "colab": {
          "base_uri": "https://localhost:8080/"
        },
        "outputId": "98d14558-e472-4ca0-a952-c1cbacafc02e"
      },
      "outputs": [
        {
          "output_type": "stream",
          "name": "stdout",
          "text": [
            "afternoon\n"
          ]
        }
      ],
      "source": [
        "def time_of_day(hour):\n",
        "    if 5 <= hour <= 11:\n",
        "        return \"morning\"\n",
        "    elif 12 <= hour <= 17:\n",
        "        return \"afternoon\"\n",
        "    else:\n",
        "        return \"evening\"\n",
        "\n",
        "print(time_of_day(14))\n"
      ]
    },
    {
      "cell_type": "markdown",
      "id": "2461e1f1",
      "metadata": {
        "id": "2461e1f1"
      },
      "source": [
        "##Level 3: Time Crystal Counter\n",
        "\n",
        "Add up only the **even numbers** in a list that are greater than 10.\n",
        "\n",
        "**Example:**\n",
        "\n",
        "```python\n",
        "count_crystals([4, 12, 7, 18, 5, 24]) ➞ 54\n",
        "```\n"
      ]
    },
    {
      "cell_type": "code",
      "execution_count": null,
      "id": "613b230b",
      "metadata": {
        "colab": {
          "base_uri": "https://localhost:8080/"
        },
        "id": "613b230b",
        "outputId": "01639050-6b1f-4957-b8ec-41531dc5e3d9"
      },
      "outputs": [
        {
          "output_type": "stream",
          "name": "stdout",
          "text": [
            "54\n"
          ]
        }
      ],
      "source": [
        "def count_crystals(crystals):\n",
        "    total = 0\n",
        "    for c in crystals:\n",
        "        if c % 2 == 0 and c > 10:\n",
        "            total += c\n",
        "    return total\n",
        "\n",
        "print(count_crystals([4, 12, 7, 18, 5, 24]))\n"
      ]
    },
    {
      "cell_type": "markdown",
      "id": "529937a2",
      "metadata": {
        "id": "529937a2"
      },
      "source": [
        "##Final Level: Secret Code Decoder\n",
        "\n",
        "Take a list of reversed words and return the decoded phrase.\n",
        "\n",
        "**Example:**\n",
        "\n",
        "```python\n",
        "decode([\"edoc\", \"si\", \"nuf\"]) ➞ \"code is fun\"\n",
        "```\n"
      ]
    },
    {
      "cell_type": "code",
      "execution_count": null,
      "id": "fcedde8f",
      "metadata": {
        "id": "fcedde8f",
        "colab": {
          "base_uri": "https://localhost:8080/"
        },
        "outputId": "7092b500-3a3d-4226-aeb5-9c1cd72709bf"
      },
      "outputs": [
        {
          "output_type": "stream",
          "name": "stdout",
          "text": [
            "code is fun\n"
          ]
        }
      ],
      "source": [
        "def decode(reversed_words):\n",
        "    real_words = [word[::-1] for word in reversed_words]\n",
        "    return \" \".join(real_words)\n",
        "\n",
        "print(decode([\"edoc\", \"si\", \"nuf\"]))"
      ]
    }
  ],
  "metadata": {
    "colab": {
      "provenance": []
    },
    "language_info": {
      "name": "python"
    },
    "kernelspec": {
      "name": "python3",
      "display_name": "Python 3"
    }
  },
  "nbformat": 4,
  "nbformat_minor": 5
}