{
  "cells": [
    {
      "cell_type": "markdown",
      "id": "c4376b08",
      "metadata": {
        "id": "c4376b08"
      },
      "source": [
        "#Code Quest: The Mystery Island\n",
        "\n",
        "Welcome, adventurers! You’ve crash-landed on a mysterious island filled with coding challenges. Solve each puzzle to move through different areas of the island. Work together with your team to complete all 4 levels and uncover the secret escape code!\n",
        "\n",
        "Each level is a Python function that you must fix or complete. Solve them one at a time — when your team reaches the final answer, send it to your instructor to escape!\n",
        "\n",
        "Good luck!\n"
      ]
    },
    {
      "cell_type": "markdown",
      "id": "4b52c3b0",
      "metadata": {
        "id": "4b52c3b0"
      },
      "source": [
        "##Level 1: The Talking Parrot\n",
        "\n",
        "A talking parrot repeats your word *backwards* and adds an exclamation mark. Write a function that does exactly that.\n",
        "\n",
        "**Example:**\n",
        "\n",
        "```python\n",
        "parrot_says(\"banana\") ➞ \"ananab!\"\n",
        "```\n"
      ]
    },
    {
      "cell_type": "code",
      "execution_count": null,
      "id": "e83d291d",
      "metadata": {
        "id": "e83d291d",
        "outputId": "12acb29d-c96f-41b2-9b25-5254b2af7b05",
        "colab": {
          "base_uri": "https://localhost:8080/"
        }
      },
      "outputs": [
        {
          "output_type": "stream",
          "name": "stdout",
          "text": [
            "ananab!\n"
          ]
        }
      ],
      "source": [
        "def parrot_says(word):\n",
        "    return word[::-1] + \"!\"\n",
        "\n",
        "print(parrot_says(\"banana\"))\n"
      ]
    },
    {
      "cell_type": "markdown",
      "id": "b440fea5",
      "metadata": {
        "id": "b440fea5"
      },
      "source": [
        "##Level 2: Banana Counting Trap\n",
        "\n",
        "To open the jungle gate, you must count all the bananas in a list of fruits.\n",
        "\n",
        "**Example:**\n",
        "\n",
        "```python\n",
        "count_bananas([\"apple\", \"banana\", \"banana\", \"mango\"]) ➞ 2\n",
        "```\n"
      ]
    },
    {
      "cell_type": "code",
      "execution_count": null,
      "id": "77a3b838",
      "metadata": {
        "id": "77a3b838",
        "outputId": "5be49f2f-b8d8-4128-85f7-9065c0c2191b",
        "colab": {
          "base_uri": "https://localhost:8080/"
        }
      },
      "outputs": [
        {
          "output_type": "stream",
          "name": "stdout",
          "text": [
            "2\n"
          ]
        }
      ],
      "source": [
        "def count_bananas(fruits):\n",
        "    count = 0\n",
        "    for fruit in fruits:\n",
        "        if fruit == \"banana\":\n",
        "            count += 1\n",
        "    return count\n",
        "\n",
        "print(count_bananas([\"apple\", \"banana\", \"banana\", \"mango\"]))\n"
      ]
    },
    {
      "cell_type": "markdown",
      "id": "b4f7bb20",
      "metadata": {
        "id": "b4f7bb20"
      },
      "source": [
        "##Level 3: Mysterious Number Riddle\n",
        "\n",
        "To unlock the cave door, you must find the **smallest number** that is divisible by 7 **and** leaves a remainder of 1 when divided by 4.\n",
        "\n",
        "**Hint**: Use a `while` loop and return the first number that works!\n"
      ]
    },
    {
      "cell_type": "code",
      "execution_count": null,
      "id": "5de4d10f",
      "metadata": {
        "id": "5de4d10f",
        "outputId": "bc8bd368-f106-4213-8100-1fc5b567069f",
        "colab": {
          "base_uri": "https://localhost:8080/"
        }
      },
      "outputs": [
        {
          "output_type": "stream",
          "name": "stdout",
          "text": [
            "21\n"
          ]
        }
      ],
      "source": [
        "def find_secret_number():\n",
        "    num = 1\n",
        "    while True:\n",
        "        if num % 7 == 0 and num % 4 == 1:\n",
        "            return num\n",
        "        num += 1\n",
        "\n",
        "print(find_secret_number())\n"
      ]
    },
    {
      "cell_type": "markdown",
      "source": [],
      "metadata": {
        "id": "VZhDspS_310h"
      },
      "id": "VZhDspS_310h"
    },
    {
      "cell_type": "markdown",
      "id": "e527c213",
      "metadata": {
        "id": "e527c213"
      },
      "source": [
        "##Final Level: Escape Code Puzzle\n",
        "\n",
        "You've collected the words: `[\"Python\", \"Island\", \"Game\"]`\n",
        "\n",
        "Your task: return only the **first letter** of each word, joined together in uppercase.\n",
        "\n",
        "**Example:**\n",
        "\n",
        "```python\n",
        "escape_code([\"Python\", \"Island\", \"Game\"]) ➞ \"PIG\"\n",
        "```\n",
        "\n",
        "This is your final code to escape the island! 🏝️\n"
      ]
    },
    {
      "cell_type": "code",
      "execution_count": null,
      "id": "d7c48ef1",
      "metadata": {
        "id": "d7c48ef1",
        "outputId": "9fdd37d8-7478-4036-d2cb-93ec4cf27ff3",
        "colab": {
          "base_uri": "https://localhost:8080/"
        }
      },
      "outputs": [
        {
          "output_type": "stream",
          "name": "stdout",
          "text": [
            "PIG\n"
          ]
        }
      ],
      "source": [
        "def escape_code(words):\n",
        "    return \"\".join([w[0] for w in words]).upper()\n",
        "\n",
        "print(escape_code([\"Python\", \"Island\", \"Game\"]))\n"
      ]
    }
  ],
  "metadata": {
    "colab": {
      "provenance": []
    },
    "language_info": {
      "name": "python"
    },
    "kernelspec": {
      "name": "python3",
      "display_name": "Python 3"
    }
  },
  "nbformat": 4,
  "nbformat_minor": 5
}