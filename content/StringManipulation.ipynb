{
  "cells": [
    {
      "cell_type": "markdown",
      "id": "d1442b5f",
      "metadata": {
        "id": "d1442b5f"
      },
      "source": [
        "# ***String Manipulation***\n",
        "\n",
        "1. Reversing string\n",
        "2. Sort the letters\n",
        "3. Accessing characters\n",
        "4. Combining strings\n",
        "5. Count"
      ]
    },
    {
      "cell_type": "markdown",
      "id": "8fef0cb6",
      "metadata": {
        "id": "8fef0cb6"
      },
      "source": [
        "##Exercise 1: Reverse the Word\n",
        "\n",
        "Ask the user for a word and print it backwards using string slicing."
      ]
    },
    {
      "cell_type": "code",
      "execution_count": null,
      "id": "e3f6a699",
      "metadata": {
        "id": "e3f6a699"
      },
      "outputs": [],
      "source": [
        "word = input(\"Enter a word to reverse: \")\n",
        "reversed_word = word[::-1]\n",
        "print(\"Backwards:\", reversed_word)"
      ]
    },
    {
      "cell_type": "markdown",
      "id": "9acaab8b",
      "metadata": {
        "id": "9acaab8b"
      },
      "source": [
        "##Exercise 2: Sort the Letters\n",
        "\n",
        "Ask the user for their name, convert to uppercase, sort the letters, and print them as one string."
      ]
    },
    {
      "cell_type": "code",
      "execution_count": null,
      "id": "6b4ae279",
      "metadata": {
        "id": "6b4ae279"
      },
      "outputs": [],
      "source": [
        "name = input(\"Enter your name: \")\n",
        "sorted_letters = sorted(name.upper())\n",
        "print(\"Sorted letters:\", \"\".join(sorted_letters))"
      ]
    },
    {
      "cell_type": "markdown",
      "id": "6c96503e",
      "metadata": {
        "id": "6c96503e"
      },
      "source": [
        "##Exercise 3: First and Last Letter\n",
        "\n",
        "Ask the user for a word and print the first and last letter."
      ]
    },
    {
      "cell_type": "code",
      "execution_count": null,
      "id": "7115daad",
      "metadata": {
        "id": "7115daad"
      },
      "outputs": [],
      "source": [
        "word = input(\"Enter a word: \")\n",
        "print(\"First letter:\", word[0])\n",
        "print(\"Last letter:\", word[-1])"
      ]
    },
    {
      "cell_type": "markdown",
      "id": "b0c5bf44",
      "metadata": {
        "id": "b0c5bf44"
      },
      "source": [
        "##Exercise 4: Magic Spell\n",
        "\n",
        "Ask the user for three words and combine them into one magic spell."
      ]
    },
    {
      "cell_type": "code",
      "execution_count": null,
      "id": "8537f499",
      "metadata": {
        "id": "8537f499"
      },
      "outputs": [],
      "source": [
        "w1 = input(\"First magic word: \")\n",
        "w2 = input(\"Second magic word: \")\n",
        "w3 = input(\"Third magic word: \")\n",
        "spell = w1 + \"-\" + w2 + \"-\" + w3\n",
        "print(\"✨ Your spell:\", spell)"
      ]
    },
    {
      "cell_type": "markdown",
      "id": "c0422960",
      "metadata": {
        "id": "c0422960"
      },
      "source": [
        "##Exercise 5: Favorite Word Counter\n",
        "\n",
        "Ask the user for a sentence and a favorite word. Count how many times it appears."
      ]
    },
    {
      "cell_type": "code",
      "execution_count": null,
      "id": "7bef0c39",
      "metadata": {
        "id": "7bef0c39"
      },
      "outputs": [],
      "source": [
        "sentence = input(\"Type a sentence: \")\n",
        "fav = input(\"What's your favorite word? \")\n",
        "print(\"It appears\", sentence.count(fav), \"times!\")"
      ]
    }
  ],
  "metadata": {
    "colab": {
      "provenance": []
    }
  },
  "nbformat": 4,
  "nbformat_minor": 5
}