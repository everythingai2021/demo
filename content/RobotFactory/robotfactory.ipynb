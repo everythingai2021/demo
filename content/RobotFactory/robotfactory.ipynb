{
  "cells": [
    {
      "cell_type": "markdown",
      "id": "daffea08",
      "metadata": {
        "id": "daffea08"
      },
      "source": [
        "#Code Quest 2: The Robot Factory\n",
        "\n",
        "You've been captured by robots and taken to their secret factory! To escape, you must reprogram their security system by solving Python puzzles.\n",
        "\n",
        "Work as a team, fill in the missing code, and unlock the gates to freedom. Each function you complete will deactivate a part of the robot factory.\n",
        "\n",
        "Ready to outsmart the machines? Let's go! 🧠\n"
      ]
    },
    {
      "cell_type": "markdown",
      "id": "c664bdd3",
      "metadata": {
        "id": "c664bdd3"
      },
      "source": [
        "##Level 1: Robot Greeter\n",
        "\n",
        "The robots greet each visitor by name and robot number. Complete the function to return a greeting like this:\n",
        "\n",
        "**Example:**\n",
        "\n",
        "```python\n",
        "robot_greet(\"Sophie\", 42) ➞ \"Hello, Sophie. You are visitor #42.\"\n",
        "```\n"
      ]
    },
    {
      "cell_type": "code",
      "execution_count": null,
      "id": "77dd639b",
      "metadata": {
        "id": "77dd639b"
      },
      "outputs": [],
      "source": [
        "def robot_greet(name, number):\n",
        "    return f\"Hello, {name}. You are visitor #{number}.\"\n",
        "\n",
        "print(robot_greet(\"Sophie\", 42))\n"
      ]
    },
    {
      "cell_type": "markdown",
      "id": "8ceb6c1a",
      "metadata": {
        "id": "8ceb6c1a"
      },
      "source": [
        "##Level 2: Conveyor Belt Code\n",
        "\n",
        "You must scan boxes with IDs from 100 to 110 and print whether each box is \"even\", \"odd\", or \"special\" (if divisible by 5).\n",
        "\n",
        "**Hint:** Use a `for` loop and conditional logic.\n"
      ]
    },
    {
      "cell_type": "code",
      "execution_count": null,
      "id": "af2ee176",
      "metadata": {
        "id": "af2ee176"
      },
      "outputs": [],
      "source": [
        "def scan_boxes():\n",
        "    for box_id in range(100, 111):\n",
        "        if box_id % 5 == 0:\n",
        "            print(box_id, \"is special\")\n",
        "        elif box_id % 2 == 0:\n",
        "            print(box_id, \"is even\")\n",
        "        else:\n",
        "            print(box_id, \"is odd\")\n",
        "\n",
        "scan_boxes()\n"
      ]
    },
    {
      "cell_type": "markdown",
      "id": "7b447708",
      "metadata": {
        "id": "7b447708"
      },
      "source": [
        "## Level 3: Password Cracker\n",
        "\n",
        "The password is the sum of all numbers in a list that are divisible by 3 **and** not by 5.\n",
        "\n",
        "**Example:**\n",
        "\n",
        "```python\n",
        "crack_password([3, 6, 9, 10, 15, 18]) ➞ 33\n",
        "```\n"
      ]
    },
    {
      "cell_type": "code",
      "execution_count": null,
      "id": "9289c606",
      "metadata": {
        "id": "9289c606"
      },
      "outputs": [],
      "source": [
        "def crack_password(numbers):\n",
        "    total = 0\n",
        "    for n in numbers:\n",
        "        if n % 3 == 0 and n % 5 != 0:\n",
        "            total += n\n",
        "    return total\n",
        "\n",
        "print(crack_password([3, 6, 9, 10, 15, 18]))\n"
      ]
    },
    {
      "cell_type": "markdown",
      "id": "be5e5819",
      "metadata": {
        "id": "be5e5819"
      },
      "source": [
        "##Final Level: Escape Code Encryptor\n",
        "\n",
        "To open the factory gates, encrypt a secret word by reversing it and changing it to uppercase.\n",
        "\n",
        "**Example:**\n",
        "\n",
        "```python\n",
        "encrypt_code(\"freedom\") ➞ \"MODEERF\"\n",
        "```\n"
      ]
    },
    {
      "cell_type": "code",
      "execution_count": null,
      "id": "129b5d28",
      "metadata": {
        "id": "129b5d28"
      },
      "outputs": [],
      "source": [
        "def encrypt_code(word):\n",
        "    return word[::-1].upper()\n",
        "\n",
        "print(encrypt_code(\"freedom\"))\n"
      ]
    }
  ],
  "metadata": {
    "colab": {
      "provenance": []
    }
  },
  "nbformat": 4,
  "nbformat_minor": 5
}
