{
  "nbformat": 4,
  "nbformat_minor": 0,
  "metadata": {
    "colab": {
      "provenance": []
    },
    "kernelspec": {
      "name": "python3",
      "display_name": "Python 3"
    },
    "language_info": {
      "name": "python"
    }
  },
  "cells": [
    {
      "cell_type": "markdown",
      "source": [
        "# ***Dice Roller With Score Tracker***\n",
        "1. Random library\n",
        "2. while loop\n"
      ],
      "metadata": {
        "id": "U8FpJMieBVGF"
      }
    },
    {
      "cell_type": "code",
      "source": [
        "import random"
      ],
      "metadata": {
        "id": "Hn_8nvbOScre",
        "colab": {
          "base_uri": "https://localhost:8080/"
        },
        "outputId": "f375d4c3-4118-4584-f737-06f9b407a00b"
      },
      "execution_count": null,
      "outputs": [
        {
          "output_type": "stream",
          "name": "stdout",
          "text": [
            "🎲 You rolled a 6\n",
            "Roll again? (yes/no): yes\n",
            "🎲 You rolled a 2\n",
            "Roll again? (yes/no): no\n",
            "\n",
            "Total score: 8\n",
            "Number of 6s: 1\n",
            "Highest roll: 6\n"
          ]
        }
      ]
    },
    {
      "cell_type": "code",
      "source": [
        "roll = \"yes\"\n",
        "total_score = 0\n",
        "sixes = 0\n",
        "highest = 0"
      ],
      "metadata": {
        "id": "wRzuARsbdzqi"
      },
      "execution_count": null,
      "outputs": []
    },
    {
      "cell_type": "code",
      "source": [
        "while roll.lower() == \"yes\":\n",
        "    result = random.randint(1, 6)\n",
        "    print(\"🎲 You rolled a\", result)\n",
        "\n",
        "    if result == 1:\n",
        "        print(\"Game over! You rolled a 1.\")\n",
        "        break\n",
        "\n",
        "    total_score += result\n",
        "    if result == 6:\n",
        "        sixes += 1\n",
        "    if result > highest:\n",
        "        highest = result\n",
        "\n",
        "    roll = input(\"Roll again? (yes/no): \")"
      ],
      "metadata": {
        "colab": {
          "base_uri": "https://localhost:8080/"
        },
        "id": "Q1T6WiLld2K-",
        "outputId": "99cd0af6-97ad-48c9-9bd6-af0e78834f6a"
      },
      "execution_count": null,
      "outputs": [
        {
          "name": "stdout",
          "output_type": "stream",
          "text": [
            "🎲 You rolled a 4\n",
            "Roll again? (yes/no): yes\n",
            "🎲 You rolled a 3\n",
            "Roll again? (yes/no): no\n"
          ]
        }
      ]
    },
    {
      "cell_type": "code",
      "source": [
        "print(f\"\\nTotal score: {total_score}\")\n",
        "print(f\"Number of 6s: {sixes}\")\n",
        "print(f\"Highest roll: {highest}\")"
      ],
      "metadata": {
        "id": "Sos-H_nBd5ay"
      },
      "execution_count": null,
      "outputs": []
    }
  ]
}