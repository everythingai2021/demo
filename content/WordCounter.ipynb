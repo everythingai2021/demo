{
  "nbformat": 4,
  "nbformat_minor": 0,
  "metadata": {
    "colab": {
      "provenance": []
    },
    "kernelspec": {
      "name": "python3",
      "display_name": "Python 3"
    },
    "language_info": {
      "name": "python"
    }
  },
  "cells": [
    {
      "cell_type": "markdown",
      "source": [
        "# ***Word Counter***\n",
        "1. Counter Library\n",
        "2. String manipulation\n"
      ],
      "metadata": {
        "id": "U8FpJMieBVGF"
      }
    },
    {
      "cell_type": "code",
      "source": [
        "from collections import Counter\n",
        "\n",
        "text = input(\"Enter a paragraph: \")"
      ],
      "metadata": {
        "colab": {
          "base_uri": "https://localhost:8080/"
        },
        "id": "Hn_8nvbOScre",
        "outputId": "7b067d1c-2df2-4915-86dc-557bc03cd8ce"
      },
      "execution_count": null,
      "outputs": [
        {
          "name": "stdout",
          "output_type": "stream",
          "text": [
            "Enter a paragraph: oop, oop, opp\n"
          ]
        }
      ]
    },
    {
      "cell_type": "code",
      "source": [
        "words = text.split()\n",
        "\n",
        "word_count = len(words)"
      ],
      "metadata": {
        "id": "MVNu2xeRW-ey"
      },
      "execution_count": null,
      "outputs": []
    },
    {
      "cell_type": "code",
      "source": [
        "sentences = text.count('.') + text.count('!') + text.count('?')"
      ],
      "metadata": {
        "id": "L3JZpVasW5Qf"
      },
      "execution_count": null,
      "outputs": []
    },
    {
      "cell_type": "code",
      "source": [
        "cleaned_words = [word.strip(\".,!?\").lower() for word in words]\n",
        "unique_words = set(cleaned_words)\n",
        "unique_count = len(unique_words)\n",
        "word_freq = Counter(cleaned_words)"
      ],
      "metadata": {
        "id": "h6lLn84xXL7L"
      },
      "execution_count": null,
      "outputs": []
    },
    {
      "cell_type": "code",
      "source": [
        "print(\"Total words:\", word_count)\n",
        "print(\"Total sentences:\", sentences)\n",
        "print(\"Unique words:\", unique_count)\n",
        "print(\"Top 3 most common words:\")\n",
        "for word, freq in word_freq.most_common(3):\n",
        "    print(f\"  {word}: {freq}\")"
      ],
      "metadata": {
        "colab": {
          "base_uri": "https://localhost:8080/"
        },
        "id": "kiNOejX8XPwx",
        "outputId": "fddac90c-d8b0-4e5d-a210-8637d7d86f1a"
      },
      "execution_count": null,
      "outputs": [
        {
          "output_type": "stream",
          "name": "stdout",
          "text": [
            "Total words: 3\n",
            "Total sentences: 0\n",
            "Unique words: 2\n",
            "Top 3 most common words:\n",
            "  oop: 2\n",
            "  opp: 1\n"
          ]
        }
      ]
    }
  ]
}